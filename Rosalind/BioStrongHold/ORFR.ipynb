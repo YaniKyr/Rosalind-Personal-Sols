{
 "cells": [
  {
   "cell_type": "code",
   "execution_count": 97,
   "metadata": {},
   "outputs": [
    {
     "name": "stdout",
     "output_type": "stream",
     "text": [
      "MGKHCSLQDTLKGRDLTLCTCKTTSDSTCVEKSLRSDQSPLDALLSGSSMRQPWGGNGGTLQSRDLVYRRCSDSNITILSMKARLKLGMYG\n"
     ]
    }
   ],
   "source": [
    "from Bio.Seq import translate\n",
    "from Bio.Seq import Seq\n",
    "coding_dna =Seq(\"GACGAGACCAGATGGAGACATATTACGGATCGTACATTGATAGTGGCTATATTCAACGTCTCCCAATAGAAACAGCGCTGCTTGTTGCAGCGCTCTCACCACCGGTAGACTAAACACCGTTCAAACGCTAACTGAGTCCAGTGTCACCAACATTGAATCAGGATGTTTCTCCGATCTAACTAAAAATGACCAGGATTCCCCTGGACTGCATAAGCTTTCAACAGCGAACTATCCACTAAGCGTCGTAGACGTAATTCGCCCTCCCCATCTGCGAGGACACAAGGAAGGCGACTATGTGGTCGGAACTTTAGGTGACACTACGCACAAATCCAAACTGGAGAGCACCGATTGAGACTAATATACGGTTTAACTTGCAAGGCGGCGTTGGCGCAGTTATCAGTCTGCCCATCCTGTGCTAATGTTCAACGAAGCAGAGGTTGTGGACCGACGTCTTAACATGTTAAAACAGACGGTAGGAGATTAGCTAATCTCCTACCGTCTGTTTTAACATCGGCCTGCTGGCTATTCTTTTACCCGATGAAATCCAAGCTATCCATACATGCCGAGTTTTAGCCTCGCCTTCATTGAAAGGATGGTTATATTTGAATCCGAACATCGACGGTACACCAGATCTCGGCTCTGGAGTGTCCCGCCATTTCCGCCCCACGGTTGACGCATGCTACTGCCGGACAGAAGGGCGTCCAGAGGGGATTGGTCGCTTCGGAGACTTTTCTCTACACATGTTGAGTCGCTCGTTGTTTTACAGGTACACAAAGTCAGGTCCCGTCCCTTGAGGGTGTCTTGGAGGGAACAGTGCTTCCCCATGAGCGTTGGGGGAGTCTACGCGCGGGCCGAAGTAATCGTCTAACACAGGATTTGGGTAGAGTGAGCAAGATAGCTTCTATTTTTTGGGTGCAGCCTTACGAAAATCAGGGAGCAATCGCGTCCAACCCTTACGAGCCGATGCG\")                \n",
    "temp = coding_dna.reverse_complement()\n",
    "\n",
    "length = -1\n",
    "btrans = ''\n",
    "for i in range(len(temp)):\n",
    "    if temp[i:i+3] =='ATG':\n",
    "        trans = translate(temp[i:],to_stop=True)\n",
    "        i +=len(trans)\n",
    "        if len(trans)>= length:\n",
    "            length = len(trans)\n",
    "            btrans = trans\n",
    "print(btrans)"
   ]
  }
 ],
 "metadata": {
  "kernelspec": {
   "display_name": "Python 3.10.7 64-bit (microsoft store)",
   "language": "python",
   "name": "python3"
  },
  "language_info": {
   "codemirror_mode": {
    "name": "ipython",
    "version": 3
   },
   "file_extension": ".py",
   "mimetype": "text/x-python",
   "name": "python",
   "nbconvert_exporter": "python",
   "pygments_lexer": "ipython3",
   "version": "3.10.7"
  },
  "vscode": {
   "interpreter": {
    "hash": "d254ff784d44f558727eeadfbd5d791356dc55a4712aff3628d88258287382d0"
   }
  }
 },
 "nbformat": 4,
 "nbformat_minor": 5
}
