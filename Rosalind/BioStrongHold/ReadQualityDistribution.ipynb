{
 "cells": [
  {
   "cell_type": "code",
   "execution_count": 1,
   "metadata": {
    "collapsed": true
   },
   "outputs": [],
   "source": [
    "'''Given: A quality threshold, along with FASTQ entries for multiple \n",
    "reads.\n",
    "\n",
    "Return: The number of reads whose average quality is below the \n",
    "threshold.'''\n",
    "\n",
    "from Bio import SeqIO"
   ]
  },
  {
   "cell_type": "code",
   "execution_count": 51,
   "metadata": {
    "collapsed": true
   },
   "outputs": [],
   "source": [
    "with open('rosalind_phre(1).txt','r+') as fp:\n",
    "    # read an store all lines into list\n",
    "    lines = fp.readlines()\n",
    "    # move file pointer to the beginning of a file\n",
    "    fp.seek(0)\n",
    "    # truncate the file\n",
    "    fp.truncate()\n",
    "    threshold = int(lines[0][:2])\n",
    "    # start writing lines except the first line\n",
    "    # lines[1:] from line 2 to last line\n",
    "    fp.writelines(lines[1:])\n",
    "    "
   ]
  },
  {
   "cell_type": "code",
   "execution_count": 52,
   "metadata": {
    "scrolled": true
   },
   "outputs": [
    {
     "name": "stdout",
     "output_type": "stream",
     "text": [
      "6041\n",
      "6126\n",
      "3466\n",
      "4327\n",
      "4947\n",
      "3982\n",
      "6118\n",
      "5799\n",
      "5793\n",
      "5709\n",
      "3496\n",
      "5550\n",
      "3586\n",
      "4849\n",
      "4996\n",
      "4789\n",
      "5620\n",
      "6058\n",
      "4189\n",
      "5564\n",
      "5539\n",
      "3611\n",
      "6032\n",
      "3613\n",
      "6073\n",
      "3452\n",
      "5647\n",
      "4885\n",
      "5541\n",
      "6020\n",
      "4197\n",
      "5406\n",
      "4155\n",
      "3840\n",
      "5733\n",
      "3486\n",
      "3438\n",
      "5678\n",
      "4047\n",
      "3556\n",
      "5569\n",
      "3332\n",
      "5752\n",
      "3516\n",
      "3584\n",
      "5709\n",
      "6020\n",
      "3771\n",
      "6185\n",
      "5726\n",
      "5669\n",
      "4952\n",
      "4803\n",
      "4976\n",
      "6166\n",
      "6154\n",
      "3324\n",
      "3556\n",
      "5708\n",
      "4137\n",
      "3912\n",
      "6110\n",
      "3711\n",
      "5803\n",
      "3626\n",
      "5810\n",
      "5539\n",
      "5908\n",
      "5933\n",
      "5749\n",
      "6165\n",
      "5803\n",
      "6101\n",
      "5556\n",
      "5884\n",
      "4983\n",
      "3523\n",
      "3320\n",
      "6109\n",
      "5666\n",
      "6163\n",
      "4191\n"
     ]
    }
   ],
   "source": [
    "\n",
    "sum = 0\n",
    "counter =0\n",
    "for record in SeqIO.parse('rosalind_phre(1).txt',\"fastq\"):\n",
    "    for phrd in record.letter_annotations[\"phred_quality\"]:\n",
    "        sum+=phrd\n",
    "    print(sum)\n",
    "    if sum/len(record.letter_annotations[\"phred_quality\"]) <=threshold:\n",
    "        counter+=1\n",
    "    sum=0"
   ]
  },
  {
   "cell_type": "code",
   "execution_count": 53,
   "metadata": {},
   "outputs": [
    {
     "data": {
      "text/plain": [
       "29"
      ]
     },
     "execution_count": 53,
     "metadata": {},
     "output_type": "execute_result"
    }
   ],
   "source": [
    "counter\n"
   ]
  },
  {
   "cell_type": "code",
   "execution_count": null,
   "metadata": {
    "collapsed": true
   },
   "outputs": [],
   "source": []
  }
 ],
 "metadata": {
  "kernelspec": {
   "display_name": "Python 3.10.7 64-bit (microsoft store)",
   "language": "python",
   "name": "python3"
  },
  "language_info": {
   "codemirror_mode": {
    "name": "ipython",
    "version": 3
   },
   "file_extension": ".py",
   "mimetype": "text/x-python",
   "name": "python",
   "nbconvert_exporter": "python",
   "pygments_lexer": "ipython3",
   "version": "3.10.7"
  },
  "vscode": {
   "interpreter": {
    "hash": "d254ff784d44f558727eeadfbd5d791356dc55a4712aff3628d88258287382d0"
   }
  }
 },
 "nbformat": 4,
 "nbformat_minor": 5
}
