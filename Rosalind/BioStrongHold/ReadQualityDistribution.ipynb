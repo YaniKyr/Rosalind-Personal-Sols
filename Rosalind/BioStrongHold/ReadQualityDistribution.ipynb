{
 "cells": [
  {
   "cell_type": "code",
   "execution_count": 1,
   "metadata": {
    "collapsed": true
   },
   "outputs": [],
   "source": [
    "'''Given: A quality threshold, along with FASTQ entries for multiple \n",
    "reads.\n",
    "\n",
    "Return: The number of reads whose average quality is below the \n",
    "threshold.'''\n",
    "\n",
    "from Bio import SeqIO"
   ]
  },
  {
   "cell_type": "code",
   "execution_count": 51,
   "metadata": {
    "collapsed": true
   },
   "outputs": [],
   "source": [
    "with open('rosalind_phre(1).txt','r+') as fp:\n",
    "    # read an store all lines into list\n",
    "    lines = fp.readlines()\n",
    "    # move file pointer to the beginning of a file\n",
    "    fp.seek(0)\n",
    "    # truncate the file\n",
    "    fp.truncate()\n",
    "    threshold = int(lines[0][:2])\n",
    "    # start writing lines except the first line\n",
    "    # lines[1:] from line 2 to last line\n",
    "    fp.writelines(lines[1:])\n",
    "    "
   ]
  },
  {
   "cell_type": "code",
   "execution_count": 52,
   "metadata": {
    "scrolled": true
   }
  ,
   "source": [
    "\n",
    "sum = 0\n",
    "counter =0\n",
    "for record in SeqIO.parse('rosalind_phre(1).txt',\"fastq\"):\n",
    "    for phrd in record.letter_annotations[\"phred_quality\"]:\n",
    "        sum+=phrd\n",
    "    print(sum)\n",
    "    if sum/len(record.letter_annotations[\"phred_quality\"]) <=threshold:\n",
    "        counter+=1\n",
    "    sum=0"
   ]
  },
  {
   "cell_type": "code",
   "execution_count": 53,
   "metadata": {},
   "outputs": [
    {
     "data": {
      "text/plain": [
       "29"
      ]
     },
     "execution_count": 53,
     "metadata": {},
     "output_type": "execute_result"
    }
   ],
   "source": [
    "counter\n"
   ]
  },
  {
   "cell_type": "code",
   "execution_count": null,
   "metadata": {
    "collapsed": true
   },
   "outputs": [],
   "source": []
  }
 ],
 "metadata": {
  "kernelspec": {
   "display_name": "Python 3.10.7 64-bit (microsoft store)",
   "language": "python",
   "name": "python3"
  },
  "language_info": {
   "codemirror_mode": {
    "name": "ipython",
    "version": 3
   },
   "file_extension": ".py",
   "mimetype": "text/x-python",
   "name": "python",
   "nbconvert_exporter": "python",
   "pygments_lexer": "ipython3",
   "version": "3.10.7"
  },
  "vscode": {
   "interpreter": {
    "hash": "d254ff784d44f558727eeadfbd5d791356dc55a4712aff3628d88258287382d0"
   }
  }
 },
 "nbformat": 4,
 "nbformat_minor": 5
}
