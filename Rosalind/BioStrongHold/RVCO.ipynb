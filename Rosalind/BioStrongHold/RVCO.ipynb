{
 "cells": [
  {
   "cell_type": "code",
   "execution_count": 8,
   "id": "5029b79d",
   "metadata": {},
   "outputs": [],
   "source": [
    "'''Given: A collection of n (n≤10) DNA strings.\n",
    "\n",
    "Return: The number of given strings \n",
    "that match their reverse complements.'''\n",
    "\n",
    "from Bio.Seq import Seq\n",
    "from Bio import SeqIO"
   ]
  },
  {
   "cell_type": "code",
   "execution_count": 20,
   "id": "84abfbca",
   "metadata": {},
   "outputs": [],
   "source": [
    "count=0\n",
    "for record in SeqIO.parse('rosalind_rvco.txt',\"fasta\"):\n",
    "    temp = Seq(record.seq)\n",
    "    if temp == temp.reverse_complement():\n",
    "        count+=1"
   ]
  },
  {
   "cell_type": "code",
   "execution_count": 21,
   "id": "bda73436",
   "metadata": {},
   "outputs": [
    {
     "data": {
      "text/plain": [
       "2"
      ]
     },
     "execution_count": 21,
     "metadata": {},
     "output_type": "execute_result"
    }
   ],
   "source": [
    "count"
   ]
  }
 ],
 "metadata": {
  "kernelspec": {
   "display_name": "Python 3.10.7 64-bit (microsoft store)",
   "language": "python",
   "name": "python3"
  },
  "language_info": {
   "codemirror_mode": {
    "name": "ipython",
    "version": 3
   },
   "file_extension": ".py",
   "mimetype": "text/x-python",
   "name": "python",
   "nbconvert_exporter": "python",
   "pygments_lexer": "ipython3",
   "version": "3.10.7"
  },
  "vscode": {
   "interpreter": {
    "hash": "d254ff784d44f558727eeadfbd5d791356dc55a4712aff3628d88258287382d0"
   }
  }
 },
 "nbformat": 4,
 "nbformat_minor": 5
}
